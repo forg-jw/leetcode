{
 "cells": [
  {
   "cell_type": "markdown",
   "metadata": {},
   "source": [
    "## LeetCode-HARD"
   ]
  },
  {
   "cell_type": "markdown",
   "metadata": {},
   "source": [
    "### 786. K-th Smallest Prime Fraction\n",
    "\n",
    "给你一个按递增顺序排序的数组 arr 和一个整数 k 。数组 arr 由 1 和若干 素数  组成，且其中所有整数互不相同。\n",
    "\n",
    "对于每对满足 0 < i < j < arr.length 的 i 和 j ，可以得到分数 arr[i] / arr[j] 。\n",
    "\n",
    "那么第 k 个最小的分数是多少呢?  以长度为 2 的整数数组返回你的答案, 这里 answer[0] == arr[i] 且 answer[1] == arr[j] 。"
   ]
  },
  {
   "cell_type": "code",
   "execution_count": 2,
   "metadata": {},
   "outputs": [],
   "source": [
    "class Solution:\n",
    "    def kthSmallestPrimeFraction(self, arr, k: int):\n",
    "        n = len(arr)\n",
    "        heap = [(arr[0]/arr[i], 0, i) for i in range(n-1, 0, -1)]\n",
    "        #print([heap[i][0] for i in range(len(heap))])\n",
    "        for _ in range(k-1):\n",
    "            _, i, j = heapq.heappop(heap)\n",
    "            #print([heap[i][0] for i in range(len(heap))])\n",
    "            i += 1\n",
    "            if i < j:\n",
    "                heapq.heappush(heap, (arr[i]/arr[j], i, j))\n",
    "        return [arr[heap[0][1]], arr[heap[0][2]]]"
   ]
  }
 ],
 "metadata": {
  "kernelspec": {
   "display_name": "Python 3",
   "language": "python",
   "name": "python3"
  },
  "language_info": {
   "codemirror_mode": {
    "name": "ipython",
    "version": 3
   },
   "file_extension": ".py",
   "mimetype": "text/x-python",
   "name": "python",
   "nbconvert_exporter": "python",
   "pygments_lexer": "ipython3",
   "version": "3.7.3"
  }
 },
 "nbformat": 4,
 "nbformat_minor": 2
}
