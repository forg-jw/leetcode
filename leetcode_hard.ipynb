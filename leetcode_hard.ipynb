{
 "cells": [
  {
   "cell_type": "markdown",
   "metadata": {},
   "source": [
    "## LeetCode-HARD"
   ]
  },
  {
   "cell_type": "markdown",
   "metadata": {},
   "source": [
    "### 786. K-th Smallest Prime Fraction\n",
    "\n",
    "给你一个按递增顺序排序的数组 arr 和一个整数 k 。数组 arr 由 1 和若干 素数  组成，且其中所有整数互不相同。\n",
    "\n",
    "对于每对满足 0 < i < j < arr.length 的 i 和 j ，可以得到分数 arr[i] / arr[j] 。\n",
    "\n",
    "那么第 k 个最小的分数是多少呢?  以长度为 2 的整数数组返回你的答案, 这里 answer[0] == arr[i] 且 answer[1] == arr[j] 。"
   ]
  },
  {
   "cell_type": "code",
   "execution_count": 2,
   "metadata": {},
   "outputs": [],
   "source": [
    "class Solution:\n",
    "    def kthSmallestPrimeFraction(self, arr, k: int):\n",
    "        n = len(arr)\n",
    "        heap = [(arr[0]/arr[i], 0, i) for i in range(n-1, 0, -1)]\n",
    "        #print([heap[i][0] for i in range(len(heap))])\n",
    "        for _ in range(k-1):\n",
    "            _, i, j = heapq.heappop(heap)\n",
    "            #print([heap[i][0] for i in range(len(heap))])\n",
    "            i += 1\n",
    "            if i < j:\n",
    "                heapq.heappush(heap, (arr[i]/arr[j], i, j))\n",
    "        return [arr[heap[0][1]], arr[heap[0][2]]]"
   ]
  },
  {
   "cell_type": "markdown",
   "metadata": {},
   "source": [
    "### 630. Course Schedule III\n",
    "\n",
    "这里有 n 门不同的在线课程，按从 1 到 n 编号。给你一个数组 courses ，其中 courses[i] = [durationi, lastDayi] 表示第 i 门课将会 持续 上 durationi 天课，并且必须在不晚于 lastDayi 的时候完成。\n",
    "\n",
    "你的学期从第 1 天开始。且不能同时修读两门及两门以上的课程。\n",
    "\n",
    "返回你最多可以修读的课程数目。\n",
    "\n",
    "[link](https://leetcode-cn.com/problems/course-schedule-iii/)"
   ]
  },
  {
   "cell_type": "code",
   "execution_count": 1,
   "metadata": {},
   "outputs": [],
   "source": [
    "class Solution:\n",
    "    def scheduleCourse(self, courses):\n",
    "        courses.sort(key=lambda x: x[1])\n",
    "        hp = []\n",
    "        total = 0\n",
    "        for duration, lastday in courses:\n",
    "            if total + duration <= lastday:\n",
    "                total += duration\n",
    "                heapq.heappush(hp, -duration)\n",
    "            elif hp and hp[0] < -duration:\n",
    "                total = total + hp[0] + duration\n",
    "                heapq.heappushpop(hp, -duration)\n",
    "        return len(hp)"
   ]
  },
  {
   "cell_type": "markdown",
   "metadata": {},
   "source": [
    "### 472. Concatenated Words\n",
    "给你一个 不含重复 单词的字符串数组 words ，请你找出并返回 words 中的所有 连接词 。\n",
    "\n",
    "连接词 定义为：一个完全由给定数组中的至少两个较短单词组成的字符串。\n",
    "\n",
    "[https://leetcode-cn.com/problems/concatenated-words/](https://leetcode-cn.com/problems/concatenated-words/)"
   ]
  },
  {
   "cell_type": "code",
   "execution_count": 1,
   "metadata": {},
   "outputs": [],
   "source": [
    "class Trie:\n",
    "    def __init__(self):\n",
    "        self.children = [None] * 26\n",
    "        self.isEnd = False\n",
    "    \n",
    "    def insert(self, word):\n",
    "        node = self\n",
    "        for c in word:\n",
    "            idx = ord(c) - ord('a')\n",
    "            if not node.children[idx]:\n",
    "                node.children[idx] = Trie()\n",
    "            node = node.children[idx]\n",
    "        node.isEnd = True\n",
    "\n",
    "    def dfs(self, word, idx):\n",
    "        if idx == len(word):\n",
    "            return True\n",
    "        node = self\n",
    "        for i in range(idx, len(word)):\n",
    "            node = node.children[ord(word[i]) - ord('a')]\n",
    "            if not node:\n",
    "                return False\n",
    "            if node.isEnd and self.dfs(word, i+1):\n",
    "                return True\n",
    "        return False\n",
    "\n",
    "class Solution:\n",
    "    def findAllConcatenatedWordsInADict(self, words):\n",
    "        words.sort(key=len)\n",
    "        res = []\n",
    "        node = Trie()\n",
    "        for word in words:\n",
    "            if word != '':\n",
    "                if node.dfs(word, 0):\n",
    "                    res.append(word)\n",
    "                else:\n",
    "                    node.insert(word)\n",
    "        return res"
   ]
  }
 ],
 "metadata": {
  "kernelspec": {
   "display_name": "Python 3",
   "language": "python",
   "name": "python3"
  },
  "language_info": {
   "codemirror_mode": {
    "name": "ipython",
    "version": 3
   },
   "file_extension": ".py",
   "mimetype": "text/x-python",
   "name": "python",
   "nbconvert_exporter": "python",
   "pygments_lexer": "ipython3",
   "version": "3.7.3"
  }
 },
 "nbformat": 4,
 "nbformat_minor": 2
}
