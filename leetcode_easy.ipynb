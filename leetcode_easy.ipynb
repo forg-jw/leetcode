{
 "cells": [
  {
   "cell_type": "markdown",
   "metadata": {},
   "source": [
    "## LeetCode-EASY"
   ]
  },
  {
   "cell_type": "markdown",
   "metadata": {},
   "source": [
    "### 1323. Maximum 6 9 Number\n",
    "\n",
    "给你一个仅由数字 6 和 9 组成的正整数 num。\n",
    "你最多只能翻转一位数字，将 6 变成 9，或者把 9 变成 6 。\n",
    "请返回你可以得到的最大数字。"
   ]
  },
  {
   "cell_type": "code",
   "execution_count": 1,
   "metadata": {},
   "outputs": [],
   "source": [
    "class Solution:\n",
    "    def maximum69Number (self, num: int) -> int:\n",
    "        res = ''\n",
    "        flag = True\n",
    "        for i in str(num):\n",
    "            if i == '6' and flag:\n",
    "                res += '9'\n",
    "                flag = False\n",
    "            else:\n",
    "                res += i\n",
    "        return int(res)"
   ]
  },
  {
   "cell_type": "markdown",
   "metadata": {},
   "source": [
    "更简洁的方式"
   ]
  },
  {
   "cell_type": "code",
   "execution_count": 2,
   "metadata": {},
   "outputs": [],
   "source": [
    "class Solution:\n",
    "    def maximum69Number(self, num: int) -> int:\n",
    "        return int(str(num).replace(\"6\", \"9\", 1))"
   ]
  },
  {
   "cell_type": "markdown",
   "metadata": {},
   "source": [
    "### 1446. Consecutive Characters\n",
    "\n",
    "给你一个字符串 s ，字符串的「能量」定义为：只包含一种字符的最长非空子字符串的长度。\n",
    "\n",
    "请你返回字符串的能量。"
   ]
  },
  {
   "cell_type": "code",
   "execution_count": 3,
   "metadata": {},
   "outputs": [],
   "source": [
    "class Solution:\n",
    "    def maxPower(self, s: str) -> int:\n",
    "        res = 1\n",
    "        tmp = 1\n",
    "        for i in range(1, len(s)):\n",
    "            if s[i] == s[i-1]:\n",
    "                tmp += 1\n",
    "                res = max(res, tmp)\n",
    "            else:\n",
    "                tmp = 1\n",
    "        return res"
   ]
  }
 ],
 "metadata": {
  "kernelspec": {
   "display_name": "Python 3",
   "language": "python",
   "name": "python3"
  },
  "language_info": {
   "codemirror_mode": {
    "name": "ipython",
    "version": 3
   },
   "file_extension": ".py",
   "mimetype": "text/x-python",
   "name": "python",
   "nbconvert_exporter": "python",
   "pygments_lexer": "ipython3",
   "version": "3.7.3"
  }
 },
 "nbformat": 4,
 "nbformat_minor": 2
}
