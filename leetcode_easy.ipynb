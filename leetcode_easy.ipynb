{
 "cells": [
  {
   "cell_type": "markdown",
   "metadata": {},
   "source": [
    "## LeetCode-EASY"
   ]
  },
  {
   "cell_type": "markdown",
   "metadata": {},
   "source": [
    "### 1323. Maximum 6 9 Number\n",
    "\n",
    "给你一个仅由数字 6 和 9 组成的正整数 num。\n",
    "你最多只能翻转一位数字，将 6 变成 9，或者把 9 变成 6 。\n",
    "请返回你可以得到的最大数字。"
   ]
  },
  {
   "cell_type": "code",
   "execution_count": 1,
   "metadata": {},
   "outputs": [],
   "source": [
    "class Solution:\n",
    "    def maximum69Number (self, num: int) -> int:\n",
    "        res = ''\n",
    "        flag = True\n",
    "        for i in str(num):\n",
    "            if i == '6' and flag:\n",
    "                res += '9'\n",
    "                flag = False\n",
    "            else:\n",
    "                res += i\n",
    "        return int(res)"
   ]
  },
  {
   "cell_type": "markdown",
   "metadata": {},
   "source": [
    "更简洁的方式"
   ]
  },
  {
   "cell_type": "code",
   "execution_count": 2,
   "metadata": {},
   "outputs": [],
   "source": [
    "class Solution:\n",
    "    def maximum69Number(self, num: int) -> int:\n",
    "        return int(str(num).replace(\"6\", \"9\", 1))"
   ]
  },
  {
   "cell_type": "markdown",
   "metadata": {},
   "source": [
    "### 1446. Consecutive Characters\n",
    "\n",
    "给你一个字符串 s ，字符串的「能量」定义为：只包含一种字符的最长非空子字符串的长度。\n",
    "\n",
    "请你返回字符串的能量。"
   ]
  },
  {
   "cell_type": "code",
   "execution_count": 3,
   "metadata": {},
   "outputs": [],
   "source": [
    "class Solution:\n",
    "    def maxPower(self, s: str) -> int:\n",
    "        res = 1\n",
    "        tmp = 1\n",
    "        for i in range(1, len(s)):\n",
    "            if s[i] == s[i-1]:\n",
    "                tmp += 1\n",
    "                res = max(res, tmp)\n",
    "            else:\n",
    "                tmp = 1\n",
    "        return res"
   ]
  },
  {
   "cell_type": "markdown",
   "metadata": {},
   "source": [
    "### 506. Relative Ranks\n",
    "\n",
    "给你一个长度为 n 的整数数组 score ，其中 score[i] 是第 i 位运动员在比赛中的得分。所有得分都 互不相同 。\n",
    "\n",
    "运动员将根据得分 决定名次 ，其中名次第 1 的运动员得分最高，名次第 2 的运动员得分第 2 高，依此类推。运动员的名次决定了他们的获奖情况：\n",
    "\n",
    "名次第 1 的运动员获金牌 \"Gold Medal\" 。\n",
    "名次第 2 的运动员获银牌 \"Silver Medal\" 。\n",
    "名次第 3 的运动员获铜牌 \"Bronze Medal\" 。\n",
    "从名次第 4 到第 n 的运动员，只能获得他们的名次编号（即，名次第 x 的运动员获得编号 \"x\"）。\n",
    "使用长度为 n 的数组 answer 返回获奖，其中 answer[i] 是第 i 位运动员的获奖情况。"
   ]
  },
  {
   "cell_type": "code",
   "execution_count": 5,
   "metadata": {},
   "outputs": [],
   "source": [
    "class Solution:\n",
    "    def findRelativeRanks(self, score):\n",
    "        dic = {num : i for i, num in enumerate(sorted(score, reverse=True))}\n",
    "        res = []\n",
    "        rank = ['Gold Medal', 'Silver Medal', 'Bronze Medal']\n",
    "        for num in score:\n",
    "            if dic[num] < 3:\n",
    "                res.append(rank[dic[num]])\n",
    "            else:\n",
    "                res.append(str(dic[num]+1))\n",
    "        return res"
   ]
  },
  {
   "cell_type": "markdown",
   "metadata": {},
   "source": [
    "### 1005. Maximize Sum Of Array After K Negations\n",
    "\n",
    "给你一个整数数组 nums 和一个整数 k ，按以下方法修改该数组：\n",
    "\n",
    "* 选择某个下标 i 并将 nums[i] 替换为 -nums[i] 。\n",
    "\n",
    "重复这个过程恰好 k 次。可以多次选择同一个下标 i 。\n",
    "\n",
    "以这种方式修改数组后，返回数组 可能的最大和 "
   ]
  },
  {
   "cell_type": "code",
   "execution_count": 6,
   "metadata": {},
   "outputs": [],
   "source": [
    "class Solution:\n",
    "    def largestSumAfterKNegations(self, nums, k):\n",
    "        nums.sort(key=abs, reverse=True)\n",
    "        res = 0\n",
    "        for num in nums:\n",
    "            if num < 0 and k > 0:\n",
    "                res -= num\n",
    "                k -= 1\n",
    "            else:\n",
    "                res += num\n",
    "        if k % 2:\n",
    "            res -= 2*abs(nums[-1])\n",
    "        return res"
   ]
  }
 ],
 "metadata": {
  "kernelspec": {
   "display_name": "Python 3",
   "language": "python",
   "name": "python3"
  },
  "language_info": {
   "codemirror_mode": {
    "name": "ipython",
    "version": 3
   },
   "file_extension": ".py",
   "mimetype": "text/x-python",
   "name": "python",
   "nbconvert_exporter": "python",
   "pygments_lexer": "ipython3",
   "version": "3.7.3"
  }
 },
 "nbformat": 4,
 "nbformat_minor": 2
}
