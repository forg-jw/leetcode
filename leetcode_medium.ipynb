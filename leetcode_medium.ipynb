{
 "cells": [
  {
   "cell_type": "markdown",
   "metadata": {},
   "source": [
    "## LeetCode-MEDIUM"
   ]
  },
  {
   "cell_type": "markdown",
   "metadata": {},
   "source": [
    "### 400. Nth Digit\n",
    "\n",
    "给你一个整数 n ，请你在无限的整数序列 [1, 2, 3, 4, 5, 6, 7, 8, 9, 10, 11, ...] 中找出并返回第 n 位上的数字。"
   ]
  },
  {
   "cell_type": "code",
   "execution_count": 1,
   "metadata": {},
   "outputs": [],
   "source": [
    "class Solution:\n",
    "    def findNthDigit(self, n: int) -> int:\n",
    "        digit = 1\n",
    "        count = 9\n",
    "        while n > digit * count:\n",
    "            n -= digit * count\n",
    "            digit += 1\n",
    "            count *= 10\n",
    "        start = 10 ** (digit - 1)\n",
    "        num = start + (n-1) // digit\n",
    "        return int(str(num)[(n-1)%digit])\n",
    "        # digitIndex = index % d\n",
    "        #return num // 10 ** (d- digitIndex -1) % 10"
   ]
  },
  {
   "cell_type": "markdown",
   "metadata": {},
   "source": [
    "### 2070. Most Beautiful Item for Each Query\n",
    "\n",
    "给你一个二维整数数组 items ，其中 items[i] = [pricei, beautyi] 分别表示每一个物品的 价格 和 美丽值 。\n",
    "\n",
    "同时给你一个下标从 0 开始的整数数组 queries 。对于每个查询 queries[j] ，你想求出价格小于等于 queries[j] 的物品中，最大的美丽值 是多少。如果不存在符合条件的物品，那么查询的结果为 0 。\n",
    "\n",
    "请你返回一个长度与 queries 相同的数组 answer，其中 answer[j]是第 j 个查询的答案。"
   ]
  },
  {
   "cell_type": "markdown",
   "metadata": {},
   "source": [
    "> 二分查找不大于目标值的最大的数"
   ]
  },
  {
   "cell_type": "code",
   "execution_count": 3,
   "metadata": {},
   "outputs": [],
   "source": [
    "class Solution:\n",
    "    def maximumBeauty(self, items, queries):\n",
    "        dic = {}\n",
    "        for price, beauty in items:\n",
    "            dic[price] = max(dic.get(price, 0), beauty)\n",
    "        res = []\n",
    "        lst_price = sorted(list(dic.keys()))\n",
    "        max_beauty = 0\n",
    "        n = len(lst_price)\n",
    "        lst_beauty = [0] * n\n",
    "        for i in range(n):\n",
    "            max_beauty = max(max_beauty, dic[lst_price[i]])\n",
    "            lst_beauty[i] = max_beauty\n",
    "        for query in queries:\n",
    "            left, right = 0, n-1\n",
    "            while left <= right:\n",
    "                mid = (left + right) // 2\n",
    "                if lst_price[mid] > query:\n",
    "                    right = mid - 1\n",
    "                else:\n",
    "                    left = mid + 1\n",
    "            if right < 0:\n",
    "                res.append(0)\n",
    "            else:\n",
    "                res.append(lst_beauty[left-1])\n",
    "        return res"
   ]
  },
  {
   "cell_type": "markdown",
   "metadata": {},
   "source": [
    "### 380. Insert Delete GetRandom O(1)\n",
    "\n",
    "实现RandomizedSet 类：\n",
    "\n",
    "RandomizedSet() 初始化 RandomizedSet 对象\n",
    "bool insert(int val) 当元素 val 不存在时，向集合中插入该项，并返回 true ；否则，返回 false 。\n",
    "bool remove(int val) 当元素 val 存在时，从集合中移除该项，并返回 true ；否则，返回 false 。\n",
    "int getRandom() 随机返回现有集合中的一项（测试用例保证调用此方法时集合中至少存在一个元素）。每个元素应该有 相同的概率 被返回。\n",
    "你必须实现类的所有函数，并满足每个函数的 平均 时间复杂度为 O(1) \n"
   ]
  },
  {
   "cell_type": "code",
   "execution_count": 4,
   "metadata": {},
   "outputs": [],
   "source": [
    "class RandomizedSet:\n",
    "    def __init__(self):\n",
    "        self.lst = []\n",
    "        self.dic = {}\n",
    "\n",
    "    def insert(self, val: int) -> bool:\n",
    "        if val in self.dic:\n",
    "            return False\n",
    "        self.dic[val] = len(self.lst)\n",
    "        self.lst.append(val)\n",
    "        return True\n",
    "\n",
    "    def remove(self, val: int) -> bool:\n",
    "        if val not in self.dic:\n",
    "            return False\n",
    "        idx = self.dic[val]\n",
    "        last = self.lst[-1]\n",
    "        self.lst[idx] = last\n",
    "        self.dic[last] = idx\n",
    "        del self.dic[val]\n",
    "        self.lst.pop()\n",
    "        return True\n",
    "\n",
    "    def getRandom(self) -> int:\n",
    "        return random.choice(self.lst)\n",
    "\n",
    "# Your RandomizedSet object will be instantiated and called as such:\n",
    "# obj = RandomizedSet()\n",
    "# param_1 = obj.insert(val)\n",
    "# param_2 = obj.remove(val)\n",
    "# param_3 = obj.getRandom()"
   ]
  },
  {
   "cell_type": "markdown",
   "metadata": {},
   "source": [
    "### 304. Range Sum Query 2D - Immutable\n",
    "\n",
    "给定一个二维矩阵 matrix，以下类型的多个请求：\n",
    "\n",
    "计算其子矩形范围内元素的总和，该子矩阵的 左上角 为 (row1, col1) ，右下角 为 (row2, col2) 。\n",
    "实现 NumMatrix 类：\n",
    "\n",
    "NumMatrix(int[][] matrix) 给定整数矩阵 matrix 进行初始化\n",
    "int sumRegion(int row1, int col1, int row2, int col2) 返回 左上角 (row1, col1) 、右下角 (row2, col2) 所描述的子矩阵的元素 总和 。"
   ]
  },
  {
   "cell_type": "code",
   "execution_count": 6,
   "metadata": {},
   "outputs": [],
   "source": [
    "class NumMatrix:\n",
    "    def __init__(self, matrix):\n",
    "        m, n = len(matrix), len(matrix[0])\n",
    "        self.data = [[0] * n for _ in range(m)]\n",
    "        for i in range(m):\n",
    "            self.data[i] = list(accumulate(matrix[i]))\n",
    "        for i in range(1, m):\n",
    "            for j in range(n):\n",
    "                self.data[i][j] += self.data[i-1][j]\n",
    "\n",
    "    def sumRegion(self, row1: int, col1: int, row2: int, col2: int) -> int:\n",
    "        top_left, top_right, bottom_left = 0, 0, 0\n",
    "        bottom_right = self.data[row2][col2]\n",
    "        if row1 == 0 and col1 == 0:\n",
    "            top_left = 0\n",
    "            top_right = 0\n",
    "            bottom_left = 0\n",
    "        elif row1 == 0:\n",
    "            top_left = 0\n",
    "            top_right = 0\n",
    "            bottom_left = self.data[row2][col1-1]\n",
    "        elif col1 == 0:\n",
    "            top_left = 0\n",
    "            top_right = self.data[row1-1][col2]\n",
    "            bottom_left = 0\n",
    "        else:\n",
    "            top_left = self.data[row1-1][col1-1]\n",
    "            top_right = self.data[row1-1][col2]\n",
    "            bottom_left = self.data[row2][col1-1]\n",
    "        return bottom_right - top_right - bottom_left + top_left\n",
    "\n",
    "# Your NumMatrix object will be instantiated and called as such:\n",
    "# obj = NumMatrix(matrix)\n",
    "# param_1 = obj.sumRegion(row1,col1,row2,col2)"
   ]
  },
  {
   "cell_type": "markdown",
   "metadata": {},
   "source": [
    "### 33. Search in Rotated Sorted Array\n",
    "\n",
    "整数数组 nums 按升序排列，数组中的值 互不相同 。\n",
    "\n",
    "在传递给函数之前，nums 在预先未知的某个下标 k（0 <= k < nums.length）上进行了 旋转，使数组变为 [nums[k], nums[k+1], ..., nums[n-1], nums[0], nums[1], ..., nums[k-1]]（下标 从 0 开始 计数）。例如， [0,1,2,4,5,6,7] 在下标 3 处经旋转后可能变为 [4,5,6,7,0,1,2] 。\n",
    "\n",
    "给你 旋转后 的数组 nums 和一个整数 target ，如果 nums 中存在这个目标值 target ，则返回它的下标，否则返回 -1。"
   ]
  },
  {
   "cell_type": "code",
   "execution_count": 9,
   "metadata": {},
   "outputs": [],
   "source": [
    "class Solution:\n",
    "    def search(self, nums, target):\n",
    "        n = len(nums)\n",
    "        left, right = 0, n-1\n",
    "        while left <= right:\n",
    "            mid = (left + right) // 2\n",
    "            if nums[mid] == target:\n",
    "                return mid\n",
    "            if nums[0] <= nums[mid]:\n",
    "                if nums[0] <= target < nums[mid]:\n",
    "                    right = mid-1\n",
    "                else:\n",
    "                    left = mid+1\n",
    "            else:\n",
    "                if nums[mid] < target <= nums[n-1]:\n",
    "                    left = mid + 1\n",
    "                else:\n",
    "                    right = mid - 1\n",
    "        return -1"
   ]
  },
  {
   "cell_type": "markdown",
   "metadata": {},
   "source": [
    "### 1390. Four Divisors\n",
    "\n",
    "给你一个整数数组 nums，请你返回该数组中恰有四个因数的这些整数的各因数之和。\n",
    "\n",
    "如果数组中不存在满足题意的整数，则返回 0 。\n",
    "\n",
    "[https://leetcode-cn.com/problems/four-divisors/solution/si-yin-shu-by-leetcode-solution/](https://leetcode-cn.com/problems/four-divisors/solution/si-yin-shu-by-leetcode-solution/)"
   ]
  },
  {
   "cell_type": "code",
   "execution_count": 10,
   "metadata": {},
   "outputs": [],
   "source": [
    "class Solution:\n",
    "    def sumFourDivisors(self, nums):\n",
    "        res = 0\n",
    "        for num in nums:\n",
    "            tmp_sum = 0\n",
    "            count = 0\n",
    "            i = 1\n",
    "            flag = True\n",
    "            while i * i <= num:\n",
    "                if num % i == 0:\n",
    "                    count += 1\n",
    "                    tmp_sum += i\n",
    "                    if i * i != num:\n",
    "                        count += 1\n",
    "                        tmp_sum += num // i\n",
    "                if count > 4:\n",
    "                    flag = False\n",
    "                    break\n",
    "                i += 1\n",
    "            if flag and count == 4:\n",
    "                res += tmp_sum\n",
    "        return res"
   ]
  },
  {
   "cell_type": "markdown",
   "metadata": {},
   "source": [
    "### 372. Super Pow\n",
    "\n",
    "你的任务是计算 ab 对 1337 取模，a 是一个正整数，b 是一个非常大的正整数且会以数组形式给出。"
   ]
  },
  {
   "cell_type": "code",
   "execution_count": 12,
   "metadata": {},
   "outputs": [],
   "source": [
    "class Solution:\n",
    "    def superPow(self, a, b):\n",
    "        MOD = 1337\n",
    "        res = 1\n",
    "        for each in b[::-1]:\n",
    "            res = res * pow(a, each, MOD) % MOD\n",
    "            a = pow(a, 10, MOD)\n",
    "        return res"
   ]
  },
  {
   "cell_type": "markdown",
   "metadata": {},
   "source": [
    "### 50. Pow(x, n)\n",
    "\n",
    "实现 pow(x, n) ，即计算 x 的 n 次幂函数（即，xn）。"
   ]
  },
  {
   "cell_type": "markdown",
   "metadata": {},
   "source": [
    "* 递归"
   ]
  },
  {
   "cell_type": "code",
   "execution_count": 13,
   "metadata": {},
   "outputs": [],
   "source": [
    "class Solution:\n",
    "    def myPow(self, x: float, n: int) -> float:\n",
    "        def help(m):\n",
    "            if m == 0:\n",
    "                return 1\n",
    "            y = help(m // 2)\n",
    "            return y * y if m % 2==0 else y * y * x\n",
    "        return help(n) if n >= 0 else 1 / help(-n)"
   ]
  },
  {
   "cell_type": "markdown",
   "metadata": {},
   "source": [
    "* 迭代"
   ]
  },
  {
   "cell_type": "code",
   "execution_count": 14,
   "metadata": {},
   "outputs": [],
   "source": [
    "class Solution:\n",
    "    def myPow(self, x: float, n: int) -> float:\n",
    "        sign = 1\n",
    "        if n < 0:\n",
    "            sign = 0\n",
    "            n = -n\n",
    "        res = 1\n",
    "        while n:\n",
    "            if n & 1:\n",
    "                res *= x\n",
    "            x = x * x\n",
    "            n >>= 1\n",
    "        return res if sign else 1/res"
   ]
  },
  {
   "cell_type": "markdown",
   "metadata": {},
   "source": [
    "### 1034. Coloring A Border\n",
    "\n",
    "给你一个大小为 m x n 的整数矩阵 grid ，表示一个网格。另给你三个整数 row、col 和 color 。网格中的每个值表示该位置处的网格块的颜色。\n",
    "\n",
    "当两个网格块的颜色相同，而且在四个方向中任意一个方向上相邻时，它们属于同一 连通分量 。\n",
    "\n",
    "连通分量的边界 是指连通分量中的所有与不在分量中的网格块相邻（四个方向上）的所有网格块，或者在网格的边界上（第一行/列或最后一行/列）的所有网格块。\n",
    "\n",
    "请你使用指定颜色 color 为所有包含网格块 grid[row][col] 的 连通分量的边界 进行着色，并返回最终的网格 grid 。"
   ]
  },
  {
   "cell_type": "code",
   "execution_count": 15,
   "metadata": {},
   "outputs": [],
   "source": [
    "class Solution:\n",
    "    def colorBorder(self, grid, row, col, color):\n",
    "        visited = set()\n",
    "        boundary = set()\n",
    "        dq = collections.deque([(row, col)])\n",
    "        m, n = len(grid), len(grid[0])\n",
    "        lst = [0, -1, 0, 1, 0]\n",
    "        while dq:\n",
    "            cur_row, cur_col = dq.popleft()\n",
    "            cur_color = grid[cur_row][cur_col]\n",
    "            flag = False\n",
    "            for i in range(4):\n",
    "                to_row = cur_row + lst[i]\n",
    "                to_col = cur_col + lst[i+1]\n",
    "                if to_row < 0 or to_row >= m or to_col < 0 or to_col >= n:\n",
    "                    flag = True\n",
    "                else:\n",
    "                    if (to_row, to_col) in visited:\n",
    "                        continue\n",
    "                    if grid[to_row][to_col] != cur_color:\n",
    "                        flag = True\n",
    "                    else:\n",
    "                        dq.append((to_row, to_col))\n",
    "            if flag:\n",
    "                boundary.add((cur_row, cur_col))\n",
    "            visited.add((cur_row, cur_col))\n",
    "        for row, col in boundary:\n",
    "            grid[row][col] = color\n",
    "        return grid"
   ]
  },
  {
   "cell_type": "markdown",
   "metadata": {},
   "source": [
    "### 1247. Minimum Swaps to Make Strings Equal\n",
    "\n",
    "有两个长度相同的字符串 s1 和 s2，且它们其中 只含有 字符 \"x\" 和 \"y\"，你需要通过「交换字符」的方式使这两个字符串相同。\n",
    "\n",
    "每次「交换字符」的时候，你都可以在两个字符串中各选一个字符进行交换。\n",
    "\n",
    "交换只能发生在两个不同的字符串之间，绝对不能发生在同一个字符串内部。也就是说，我们可以交换 s1[i] 和 s2[j]，但不能交换 s1[i] 和 s1[j]。\n",
    "\n",
    "最后，请你返回使 s1 和 s2 相同的最小交换次数，如果没有方法能够使得这两个字符串相同，则返回 -1 。"
   ]
  },
  {
   "cell_type": "code",
   "execution_count": 16,
   "metadata": {},
   "outputs": [],
   "source": [
    "class Solution:\n",
    "    def minimumSwap(self, s1: str, s2: str) -> int:\n",
    "        count_1 = 0\n",
    "        count_2 = 0\n",
    "        for c1, c2 in zip(s1, s2):\n",
    "            if c1 == 'x' and c2 == 'y':\n",
    "                count_1 += 1\n",
    "            elif c1 == 'y' and c2 == 'x':\n",
    "                count_2 += 1\n",
    "        if (count_1 + count_2) % 2 == 1:\n",
    "            return -1\n",
    "        if count_1 % 2 == 0:\n",
    "            return count_1 // 2 + count_2 // 2\n",
    "        else:\n",
    "            return count_1 // 2 + count_2 // 2 + 2"
   ]
  },
  {
   "cell_type": "markdown",
   "metadata": {},
   "source": [
    "### 5. Longest Palindromic Substring\n",
    "给你一个字符串 s，找到 s 中最长的回文子串。"
   ]
  },
  {
   "cell_type": "markdown",
   "metadata": {},
   "source": [
    "* method 1"
   ]
  },
  {
   "cell_type": "code",
   "execution_count": 2,
   "metadata": {},
   "outputs": [],
   "source": [
    "class Solution:\n",
    "    def longestPalindrome(self, s: str) -> str:\n",
    "        n = len(s)\n",
    "        if n == 1:\n",
    "            return s\n",
    "        dp = [[False] * n for _ in range(n)]\n",
    "        for i in range(n):\n",
    "            dp[i][i] = True\n",
    "        max_len = 1\n",
    "        idx = 0\n",
    "        for length in range(2, n+1):\n",
    "            for i in range(n):\n",
    "                j = length + i - 1\n",
    "                if j >= n:\n",
    "                    break\n",
    "                if s[i] != s[j]:\n",
    "                    dp[i][j] = False\n",
    "                else:\n",
    "                    if j-i < 3:\n",
    "                        dp[i][j] = True\n",
    "                    else:\n",
    "                        dp[i][j] = dp[i+1][j-1]\n",
    "                if dp[i][j] and length > max_len:\n",
    "                    max_len = length\n",
    "                    idx = i\n",
    "        return s[idx : idx + max_len]"
   ]
  },
  {
   "cell_type": "markdown",
   "metadata": {},
   "source": [
    "### 851. Loud and Rich\n",
    "\n",
    "有一组 n 个人作为实验对象，从 0 到 n - 1 编号，其中每个人都有不同数目的钱，以及不同程度的安静值（quietness）。为了方便起见，我们将编号为 x 的人简称为 \"person x \"。\n",
    "\n",
    "给你一个数组 richer ，其中 richer[i] = [ai, bi] 表示 person ai 比 person bi 更有钱。另给你一个整数数组 quiet ，其中 quiet[i] 是 person i 的安静值。richer 中所给出的数据 逻辑自恰（也就是说，在 person x 比 person y 更有钱的同时，不会出现 person y 比 person x 更有钱的情况 ）。\n",
    "\n",
    "现在，返回一个整数数组 answer 作为答案，其中 answer[x] = y 的前提是，在所有拥有的钱肯定不少于 person x 的人中，person y 是最安静的人（也就是安静值 quiet[y] 最小的人）。\n",
    "\n",
    "[link](https://leetcode-cn.com/problems/loud-and-rich/)"
   ]
  },
  {
   "cell_type": "code",
   "execution_count": 3,
   "metadata": {},
   "outputs": [],
   "source": [
    "class Solution:\n",
    "    def loudAndRich(self, richer, quiet):\n",
    "        dic = defaultdict(list)\n",
    "        for x, y in richer:\n",
    "            dic[y].append(x)\n",
    "        n = len(quiet)\n",
    "        res = list(range(n))\n",
    "        for i in range(n):\n",
    "            visited = set()\n",
    "            queue = deque([i])\n",
    "            quiter = quiet[i]\n",
    "            while queue:\n",
    "                person = queue.pop()\n",
    "                if quiet[person] < quiter:\n",
    "                    res[i] = person\n",
    "                    quiter = quiet[person]\n",
    "                visited.add(person)\n",
    "                for each in dic[person]:\n",
    "                    if each not in visited:\n",
    "                        queue.appendleft(each)\n",
    "        return res"
   ]
  },
  {
   "cell_type": "markdown",
   "metadata": {},
   "source": [
    "### 6. ZigZag Conversion\n",
    "将一个给定字符串 s 根据给定的行数 numRows ，以从上往下、从左到右进行 Z 字形排列。\n",
    "\n",
    "[https://leetcode-cn.com/problems/zigzag-conversion/](https://leetcode-cn.com/problems/zigzag-conversion/)"
   ]
  },
  {
   "cell_type": "code",
   "execution_count": 4,
   "metadata": {},
   "outputs": [],
   "source": [
    "class Solution:\n",
    "    def convert(self, s: str, numRows: int) -> str:\n",
    "        n = len(s)\n",
    "        if n == 1 or numRows == 1:\n",
    "            return s\n",
    "        res = ''\n",
    "        for i in range(numRows):\n",
    "            step_1 = 2 * (numRows-i-1)\n",
    "            step_2 = 2 * i\n",
    "            idx = i\n",
    "            while idx < n:\n",
    "                res += s[idx]\n",
    "                if step_1 == 0 or step_2 == 0:\n",
    "                    idx += step_1 + step_2\n",
    "                    tmp_idx = -1\n",
    "                else:\n",
    "                    tmp_idx = idx + step_1\n",
    "                    if tmp_idx < n:\n",
    "                        res += s[tmp_idx]\n",
    "                    idx += step_1 + step_2\n",
    "        return res"
   ]
  },
  {
   "cell_type": "markdown",
   "metadata": {},
   "source": [
    "### 11. Container With Most Water\n",
    "给你 n 个非负整数 a1，a2，...，an，每个数代表坐标中的一个点 (i, ai) 。在坐标内画 n 条垂直线，垂直线 i 的两个端点分别为 (i, ai) 和 (i, 0) 。找出其中的两条线，使得它们与 x 轴共同构成的容器可以容纳最多的水。\n",
    "\n",
    "[https://leetcode-cn.com/problems/container-with-most-water/](https://leetcode-cn.com/problems/container-with-most-water/)"
   ]
  },
  {
   "cell_type": "code",
   "execution_count": 5,
   "metadata": {},
   "outputs": [],
   "source": [
    "class Solution:\n",
    "    def maxArea(self, height):\n",
    "        left, right = 0, len(height)-1\n",
    "        res = 0\n",
    "        while left < right:\n",
    "            res = max(res, min(height[left], height[right]) * (right-left))\n",
    "            if height[left] < height[right]:\n",
    "                left += 1\n",
    "            else:\n",
    "                right -= 1\n",
    "        return res"
   ]
  },
  {
   "cell_type": "markdown",
   "metadata": {},
   "source": [
    "### 12. Integer to Roman\n",
    "\n",
    "[https://leetcode-cn.com/problems/integer-to-roman/](https://leetcode-cn.com/problems/integer-to-roman/)"
   ]
  },
  {
   "cell_type": "code",
   "execution_count": 6,
   "metadata": {},
   "outputs": [],
   "source": [
    "class Solution:\n",
    "    def intToRoman(self, num: int) -> str:\n",
    "        mapper = [(1000, 'M'), (900, 'CM'), (500, 'D'), (400, 'CD'), (100, 'C'), (90, 'XC'),\n",
    "                  (50, 'L'), (40, 'XL'), (10, 'X'), (9, 'IX'), (5, 'V'), (4, 'IV'), (1, 'I')]\n",
    "        res = ''\n",
    "        for val, symbol in mapper:\n",
    "            while num >= val:\n",
    "                res += symbol\n",
    "                num -= val\n",
    "            if num == 0:\n",
    "                break\n",
    "        return res"
   ]
  },
  {
   "cell_type": "markdown",
   "metadata": {},
   "source": [
    "### 16. 3Sum Closest\n",
    "\n",
    "给你一个长度为 n 的整数数组 nums 和 一个目标值 target。请你从 nums 中选出三个整数，使它们的和与 target 最接近。\n",
    "\n",
    "返回这三个数的和。\n",
    "\n",
    "假定每组输入只存在恰好一个解。\n",
    "\n",
    "[https://leetcode-cn.com/problems/3sum-closest/](https://leetcode-cn.com/problems/3sum-closest/)"
   ]
  },
  {
   "cell_type": "code",
   "execution_count": 7,
   "metadata": {},
   "outputs": [],
   "source": [
    "class Solution:\n",
    "    def threeSumClosest(self, nums, target):\n",
    "        nums.sort()\n",
    "        res = float('inf')\n",
    "        n = len(nums)\n",
    "        for i in range(n):\n",
    "            j, k = i+1, n-1\n",
    "            while j < k:\n",
    "                total = nums[i] + nums[j] + nums[k]\n",
    "                if total == target:\n",
    "                    return target\n",
    "                if abs(total-target) < abs(res-target):\n",
    "                    res = total\n",
    "                if total > target:\n",
    "                    k -= 1\n",
    "                else:\n",
    "                    j += 1\n",
    "        return res"
   ]
  },
  {
   "cell_type": "markdown",
   "metadata": {},
   "source": [
    "### 18. 4Sum\n",
    "\n",
    "给你一个由 n 个整数组成的数组 nums ，和一个目标值 target 。请你找出并返回满足下述全部条件且不重复的四元组 [nums[a], nums[b], nums[c], nums[d]] （若两个四元组元素一一对应，则认为两个四元组重复）：\n",
    "\n",
    "* 0 <= a, b, c, d < n\n",
    "* a、b、c 和 d 互不相同\n",
    "* nums[a] + nums[b] + nums[c] + nums[d] == target\n",
    "\n",
    "你可以按 任意顺序 返回答案 。\n",
    "\n",
    "[https://leetcode-cn.com/problems/4sum/](https://leetcode-cn.com/problems/4sum/)"
   ]
  },
  {
   "cell_type": "code",
   "execution_count": 8,
   "metadata": {},
   "outputs": [],
   "source": [
    "class Solution:\n",
    "    def fourSum(self, nums, target):\n",
    "        n = len(nums)\n",
    "        if n < 4:\n",
    "            return []\n",
    "        nums.sort()\n",
    "        res = []\n",
    "        for i in range(n):\n",
    "            if i > 0 and nums[i] == nums[i-1]:\n",
    "                continue\n",
    "            for j in range(i+1, n):\n",
    "                if j > i+1 and nums[j] == nums[j-1]:\n",
    "                    continue\n",
    "                left, right = j+1, n-1\n",
    "                while left < right:\n",
    "                    total = nums[i] + nums[j] + nums[left] + nums[right]\n",
    "                    if total == target:\n",
    "                        res.append([nums[i], nums[j], nums[left], nums[right]])\n",
    "                        while left < right and nums[left] == nums[left+1]:\n",
    "                            left += 1\n",
    "                        while left < right and nums[right] == nums[right-1]:\n",
    "                            right -= 1\n",
    "                        left += 1\n",
    "                        right -= 1\n",
    "                    elif total < target:\n",
    "                        left += 1\n",
    "                    else:\n",
    "                        right -= 1\n",
    "        return res"
   ]
  },
  {
   "cell_type": "markdown",
   "metadata": {},
   "source": [
    "### 475. Heaters\n",
    "冬季已经来临。 你的任务是设计一个有固定加热半径的供暖器向所有房屋供暖。\n",
    "\n",
    "在加热器的加热半径范围内的每个房屋都可以获得供暖。\n",
    "\n",
    "现在，给出位于一条水平线上的房屋 houses 和供暖器 heaters 的位置，请你找出并返回可以覆盖所有房屋的最小加热半径。\n",
    "\n",
    "说明：所有供暖器都遵循你的半径标准，加热的半径也一样。\n",
    "\n",
    "[https://leetcode-cn.com/problems/heaters/](https://leetcode-cn.com/problems/heaters/)"
   ]
  },
  {
   "cell_type": "code",
   "execution_count": 10,
   "metadata": {},
   "outputs": [],
   "source": [
    "class Solution:\n",
    "    def findRadius(self, houses, heaters):\n",
    "        res = 0\n",
    "        heaters.sort()\n",
    "        n = len(heaters)\n",
    "        for house in houses:\n",
    "            pos = bisect.bisect_right(heaters, house)\n",
    "            if pos == 0:\n",
    "                res = max(res, abs(heaters[pos] - house))\n",
    "            elif 0 < pos < n:\n",
    "                res = max(res, min(house - heaters[pos-1], heaters[pos] - house))\n",
    "            else:\n",
    "                res = max(res, abs(heaters[pos-1] - house))\n",
    "        return res"
   ]
  },
  {
   "cell_type": "markdown",
   "metadata": {},
   "source": [
    "### 1705. Maximum Number of Eaten Apples\n",
    "有一棵特殊的苹果树，一连 n 天，每天都可以长出若干个苹果。在第 i 天，树上会长出 apples[i] 个苹果，这些苹果将会在 days[i] 天后（也就是说，第 i + days[i] 天时）腐烂，变得无法食用。也可能有那么几天，树上不会长出新的苹果，此时用 apples[i] == 0 且 days[i] == 0 表示。\n",
    "\n",
    "你打算每天 最多 吃一个苹果来保证营养均衡。注意，你可以在这 n 天之后继续吃苹果。\n",
    "\n",
    "给你两个长度为 n 的整数数组 days 和 apples ，返回你可以吃掉的苹果的最大数目。\n",
    "\n",
    "\n",
    "[https://leetcode-cn.com/problems/maximum-number-of-eaten-apples/](https://leetcode-cn.com/problems/maximum-number-of-eaten-apples)"
   ]
  },
  {
   "cell_type": "code",
   "execution_count": 11,
   "metadata": {},
   "outputs": [],
   "source": [
    "class Solution:\n",
    "    def eatenApples(self, apples, days):\n",
    "        hp = []\n",
    "        res = 0\n",
    "        i = 0\n",
    "        while i < len(apples):\n",
    "            while hp and hp[0][0] < i:\n",
    "                heapq.heappop(hp)\n",
    "            if apples[i]:\n",
    "                heapq.heappush(hp, [i+days[i]-1, apples[i]])\n",
    "            if hp:\n",
    "                hp[0][1] -= 1\n",
    "                if hp[0][1] == 0:\n",
    "                    heapq.heappop(hp)\n",
    "                res += 1\n",
    "            i += 1\n",
    "        while hp:\n",
    "            while hp and hp[0][0] < i:\n",
    "                heapq.heappop(hp)\n",
    "            if not hp:\n",
    "                break\n",
    "            day, apple = heapq.heappop(hp)\n",
    "            num = min(day-i+1, apple)\n",
    "            res += num\n",
    "            i += num\n",
    "        return res"
   ]
  }
 ],
 "metadata": {
  "kernelspec": {
   "display_name": "Python 3",
   "language": "python",
   "name": "python3"
  },
  "language_info": {
   "codemirror_mode": {
    "name": "ipython",
    "version": 3
   },
   "file_extension": ".py",
   "mimetype": "text/x-python",
   "name": "python",
   "nbconvert_exporter": "python",
   "pygments_lexer": "ipython3",
   "version": "3.7.3"
  }
 },
 "nbformat": 4,
 "nbformat_minor": 2
}
