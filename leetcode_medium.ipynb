{
 "cells": [
  {
   "cell_type": "markdown",
   "metadata": {},
   "source": [
    "## LeetCode-MEDIUM"
   ]
  },
  {
   "cell_type": "markdown",
   "metadata": {},
   "source": [
    "### 400. Nth Digit\n",
    "\n",
    "给你一个整数 n ，请你在无限的整数序列 [1, 2, 3, 4, 5, 6, 7, 8, 9, 10, 11, ...] 中找出并返回第 n 位上的数字。"
   ]
  },
  {
   "cell_type": "code",
   "execution_count": 1,
   "metadata": {},
   "outputs": [],
   "source": [
    "class Solution:\n",
    "    def findNthDigit(self, n: int) -> int:\n",
    "        digit = 1\n",
    "        count = 9\n",
    "        while n > digit * count:\n",
    "            n -= digit * count\n",
    "            digit += 1\n",
    "            count *= 10\n",
    "        start = 10 ** (digit - 1)\n",
    "        num = start + (n-1) // digit\n",
    "        return int(str(num)[(n-1)%digit])\n",
    "        # digitIndex = index % d\n",
    "        #return num // 10 ** (d- digitIndex -1) % 10"
   ]
  },
  {
   "cell_type": "markdown",
   "metadata": {},
   "source": [
    "### 2070. Most Beautiful Item for Each Query\n",
    "\n",
    "给你一个二维整数数组 items ，其中 items[i] = [pricei, beautyi] 分别表示每一个物品的 价格 和 美丽值 。\n",
    "\n",
    "同时给你一个下标从 0 开始的整数数组 queries 。对于每个查询 queries[j] ，你想求出价格小于等于 queries[j] 的物品中，最大的美丽值 是多少。如果不存在符合条件的物品，那么查询的结果为 0 。\n",
    "\n",
    "请你返回一个长度与 queries 相同的数组 answer，其中 answer[j]是第 j 个查询的答案。"
   ]
  },
  {
   "cell_type": "markdown",
   "metadata": {},
   "source": [
    "> 二分查找不大于目标值的最大的数"
   ]
  },
  {
   "cell_type": "code",
   "execution_count": 3,
   "metadata": {},
   "outputs": [],
   "source": [
    "class Solution:\n",
    "    def maximumBeauty(self, items, queries):\n",
    "        dic = {}\n",
    "        for price, beauty in items:\n",
    "            dic[price] = max(dic.get(price, 0), beauty)\n",
    "        res = []\n",
    "        lst_price = sorted(list(dic.keys()))\n",
    "        max_beauty = 0\n",
    "        n = len(lst_price)\n",
    "        lst_beauty = [0] * n\n",
    "        for i in range(n):\n",
    "            max_beauty = max(max_beauty, dic[lst_price[i]])\n",
    "            lst_beauty[i] = max_beauty\n",
    "        for query in queries:\n",
    "            left, right = 0, n-1\n",
    "            while left <= right:\n",
    "                mid = (left + right) // 2\n",
    "                if lst_price[mid] > query:\n",
    "                    right = mid - 1\n",
    "                else:\n",
    "                    left = mid + 1\n",
    "            if right < 0:\n",
    "                res.append(0)\n",
    "            else:\n",
    "                res.append(lst_beauty[left-1])\n",
    "        return res"
   ]
  },
  {
   "cell_type": "code",
   "execution_count": null,
   "metadata": {},
   "outputs": [],
   "source": []
  }
 ],
 "metadata": {
  "kernelspec": {
   "display_name": "Python 3",
   "language": "python",
   "name": "python3"
  },
  "language_info": {
   "codemirror_mode": {
    "name": "ipython",
    "version": 3
   },
   "file_extension": ".py",
   "mimetype": "text/x-python",
   "name": "python",
   "nbconvert_exporter": "python",
   "pygments_lexer": "ipython3",
   "version": "3.7.3"
  }
 },
 "nbformat": 4,
 "nbformat_minor": 2
}
