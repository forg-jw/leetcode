{
 "cells": [
  {
   "cell_type": "markdown",
   "metadata": {},
   "source": [
    "## LeetCode-MEDIUM"
   ]
  },
  {
   "cell_type": "markdown",
   "metadata": {},
   "source": [
    "### 400. Nth Digit\n",
    "\n",
    "给你一个整数 n ，请你在无限的整数序列 [1, 2, 3, 4, 5, 6, 7, 8, 9, 10, 11, ...] 中找出并返回第 n 位上的数字。"
   ]
  },
  {
   "cell_type": "code",
   "execution_count": 1,
   "metadata": {},
   "outputs": [],
   "source": [
    "class Solution:\n",
    "    def findNthDigit(self, n: int) -> int:\n",
    "        digit = 1\n",
    "        count = 9\n",
    "        while n > digit * count:\n",
    "            n -= digit * count\n",
    "            digit += 1\n",
    "            count *= 10\n",
    "        start = 10 ** (digit - 1)\n",
    "        num = start + (n-1) // digit\n",
    "        return int(str(num)[(n-1)%digit])\n",
    "        # digitIndex = index % d\n",
    "        #return num // 10 ** (d- digitIndex -1) % 10"
   ]
  },
  {
   "cell_type": "markdown",
   "metadata": {},
   "source": [
    "### 2070. Most Beautiful Item for Each Query\n",
    "\n",
    "给你一个二维整数数组 items ，其中 items[i] = [pricei, beautyi] 分别表示每一个物品的 价格 和 美丽值 。\n",
    "\n",
    "同时给你一个下标从 0 开始的整数数组 queries 。对于每个查询 queries[j] ，你想求出价格小于等于 queries[j] 的物品中，最大的美丽值 是多少。如果不存在符合条件的物品，那么查询的结果为 0 。\n",
    "\n",
    "请你返回一个长度与 queries 相同的数组 answer，其中 answer[j]是第 j 个查询的答案。"
   ]
  },
  {
   "cell_type": "markdown",
   "metadata": {},
   "source": [
    "> 二分查找不大于目标值的最大的数"
   ]
  },
  {
   "cell_type": "code",
   "execution_count": 3,
   "metadata": {},
   "outputs": [],
   "source": [
    "class Solution:\n",
    "    def maximumBeauty(self, items, queries):\n",
    "        dic = {}\n",
    "        for price, beauty in items:\n",
    "            dic[price] = max(dic.get(price, 0), beauty)\n",
    "        res = []\n",
    "        lst_price = sorted(list(dic.keys()))\n",
    "        max_beauty = 0\n",
    "        n = len(lst_price)\n",
    "        lst_beauty = [0] * n\n",
    "        for i in range(n):\n",
    "            max_beauty = max(max_beauty, dic[lst_price[i]])\n",
    "            lst_beauty[i] = max_beauty\n",
    "        for query in queries:\n",
    "            left, right = 0, n-1\n",
    "            while left <= right:\n",
    "                mid = (left + right) // 2\n",
    "                if lst_price[mid] > query:\n",
    "                    right = mid - 1\n",
    "                else:\n",
    "                    left = mid + 1\n",
    "            if right < 0:\n",
    "                res.append(0)\n",
    "            else:\n",
    "                res.append(lst_beauty[left-1])\n",
    "        return res"
   ]
  },
  {
   "cell_type": "markdown",
   "metadata": {},
   "source": [
    "### 380. Insert Delete GetRandom O(1)\n",
    "\n",
    "实现RandomizedSet 类：\n",
    "\n",
    "RandomizedSet() 初始化 RandomizedSet 对象\n",
    "bool insert(int val) 当元素 val 不存在时，向集合中插入该项，并返回 true ；否则，返回 false 。\n",
    "bool remove(int val) 当元素 val 存在时，从集合中移除该项，并返回 true ；否则，返回 false 。\n",
    "int getRandom() 随机返回现有集合中的一项（测试用例保证调用此方法时集合中至少存在一个元素）。每个元素应该有 相同的概率 被返回。\n",
    "你必须实现类的所有函数，并满足每个函数的 平均 时间复杂度为 O(1) \n"
   ]
  },
  {
   "cell_type": "code",
   "execution_count": 4,
   "metadata": {},
   "outputs": [],
   "source": [
    "class RandomizedSet:\n",
    "    def __init__(self):\n",
    "        self.lst = []\n",
    "        self.dic = {}\n",
    "\n",
    "    def insert(self, val: int) -> bool:\n",
    "        if val in self.dic:\n",
    "            return False\n",
    "        self.dic[val] = len(self.lst)\n",
    "        self.lst.append(val)\n",
    "        return True\n",
    "\n",
    "    def remove(self, val: int) -> bool:\n",
    "        if val not in self.dic:\n",
    "            return False\n",
    "        idx = self.dic[val]\n",
    "        last = self.lst[-1]\n",
    "        self.lst[idx] = last\n",
    "        self.dic[last] = idx\n",
    "        del self.dic[val]\n",
    "        self.lst.pop()\n",
    "        return True\n",
    "\n",
    "    def getRandom(self) -> int:\n",
    "        return random.choice(self.lst)\n",
    "\n",
    "# Your RandomizedSet object will be instantiated and called as such:\n",
    "# obj = RandomizedSet()\n",
    "# param_1 = obj.insert(val)\n",
    "# param_2 = obj.remove(val)\n",
    "# param_3 = obj.getRandom()"
   ]
  },
  {
   "cell_type": "markdown",
   "metadata": {},
   "source": [
    "### 304. Range Sum Query 2D - Immutable\n",
    "\n",
    "给定一个二维矩阵 matrix，以下类型的多个请求：\n",
    "\n",
    "计算其子矩形范围内元素的总和，该子矩阵的 左上角 为 (row1, col1) ，右下角 为 (row2, col2) 。\n",
    "实现 NumMatrix 类：\n",
    "\n",
    "NumMatrix(int[][] matrix) 给定整数矩阵 matrix 进行初始化\n",
    "int sumRegion(int row1, int col1, int row2, int col2) 返回 左上角 (row1, col1) 、右下角 (row2, col2) 所描述的子矩阵的元素 总和 。"
   ]
  },
  {
   "cell_type": "code",
   "execution_count": 6,
   "metadata": {},
   "outputs": [],
   "source": [
    "class NumMatrix:\n",
    "    def __init__(self, matrix):\n",
    "        m, n = len(matrix), len(matrix[0])\n",
    "        self.data = [[0] * n for _ in range(m)]\n",
    "        for i in range(m):\n",
    "            self.data[i] = list(accumulate(matrix[i]))\n",
    "        for i in range(1, m):\n",
    "            for j in range(n):\n",
    "                self.data[i][j] += self.data[i-1][j]\n",
    "\n",
    "    def sumRegion(self, row1: int, col1: int, row2: int, col2: int) -> int:\n",
    "        top_left, top_right, bottom_left = 0, 0, 0\n",
    "        bottom_right = self.data[row2][col2]\n",
    "        if row1 == 0 and col1 == 0:\n",
    "            top_left = 0\n",
    "            top_right = 0\n",
    "            bottom_left = 0\n",
    "        elif row1 == 0:\n",
    "            top_left = 0\n",
    "            top_right = 0\n",
    "            bottom_left = self.data[row2][col1-1]\n",
    "        elif col1 == 0:\n",
    "            top_left = 0\n",
    "            top_right = self.data[row1-1][col2]\n",
    "            bottom_left = 0\n",
    "        else:\n",
    "            top_left = self.data[row1-1][col1-1]\n",
    "            top_right = self.data[row1-1][col2]\n",
    "            bottom_left = self.data[row2][col1-1]\n",
    "        return bottom_right - top_right - bottom_left + top_left\n",
    "\n",
    "# Your NumMatrix object will be instantiated and called as such:\n",
    "# obj = NumMatrix(matrix)\n",
    "# param_1 = obj.sumRegion(row1,col1,row2,col2)"
   ]
  },
  {
   "cell_type": "markdown",
   "metadata": {},
   "source": [
    "### 33. Search in Rotated Sorted Array\n",
    "\n",
    "整数数组 nums 按升序排列，数组中的值 互不相同 。\n",
    "\n",
    "在传递给函数之前，nums 在预先未知的某个下标 k（0 <= k < nums.length）上进行了 旋转，使数组变为 [nums[k], nums[k+1], ..., nums[n-1], nums[0], nums[1], ..., nums[k-1]]（下标 从 0 开始 计数）。例如， [0,1,2,4,5,6,7] 在下标 3 处经旋转后可能变为 [4,5,6,7,0,1,2] 。\n",
    "\n",
    "给你 旋转后 的数组 nums 和一个整数 target ，如果 nums 中存在这个目标值 target ，则返回它的下标，否则返回 -1。"
   ]
  },
  {
   "cell_type": "code",
   "execution_count": 9,
   "metadata": {},
   "outputs": [],
   "source": [
    "class Solution:\n",
    "    def search(self, nums, target):\n",
    "        n = len(nums)\n",
    "        left, right = 0, n-1\n",
    "        while left <= right:\n",
    "            mid = (left + right) // 2\n",
    "            if nums[mid] == target:\n",
    "                return mid\n",
    "            if nums[0] <= nums[mid]:\n",
    "                if nums[0] <= target < nums[mid]:\n",
    "                    right = mid-1\n",
    "                else:\n",
    "                    left = mid+1\n",
    "            else:\n",
    "                if nums[mid] < target <= nums[n-1]:\n",
    "                    left = mid + 1\n",
    "                else:\n",
    "                    right = mid - 1\n",
    "        return -1"
   ]
  }
 ],
 "metadata": {
  "kernelspec": {
   "display_name": "Python 3",
   "language": "python",
   "name": "python3"
  },
  "language_info": {
   "codemirror_mode": {
    "name": "ipython",
    "version": 3
   },
   "file_extension": ".py",
   "mimetype": "text/x-python",
   "name": "python",
   "nbconvert_exporter": "python",
   "pygments_lexer": "ipython3",
   "version": "3.7.3"
  }
 },
 "nbformat": 4,
 "nbformat_minor": 2
}
