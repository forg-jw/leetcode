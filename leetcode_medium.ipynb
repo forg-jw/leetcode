{
 "cells": [
  {
   "cell_type": "markdown",
   "metadata": {},
   "source": [
    "## LeetCode-MEDIUM"
   ]
  },
  {
   "cell_type": "markdown",
   "metadata": {},
   "source": [
    "### 400. Nth Digit\n",
    "\n",
    "给你一个整数 n ，请你在无限的整数序列 [1, 2, 3, 4, 5, 6, 7, 8, 9, 10, 11, ...] 中找出并返回第 n 位上的数字。"
   ]
  },
  {
   "cell_type": "code",
   "execution_count": 1,
   "metadata": {},
   "outputs": [],
   "source": [
    "class Solution:\n",
    "    def findNthDigit(self, n: int) -> int:\n",
    "        digit = 1\n",
    "        count = 9\n",
    "        while n > digit * count:\n",
    "            n -= digit * count\n",
    "            digit += 1\n",
    "            count *= 10\n",
    "        start = 10 ** (digit - 1)\n",
    "        num = start + (n-1) // digit\n",
    "        return int(str(num)[(n-1)%digit])\n",
    "        # digitIndex = index % d\n",
    "        #return num // 10 ** (d- digitIndex -1) % 10"
   ]
  }
 ],
 "metadata": {
  "kernelspec": {
   "display_name": "Python 3",
   "language": "python",
   "name": "python3"
  },
  "language_info": {
   "codemirror_mode": {
    "name": "ipython",
    "version": 3
   },
   "file_extension": ".py",
   "mimetype": "text/x-python",
   "name": "python",
   "nbconvert_exporter": "python",
   "pygments_lexer": "ipython3",
   "version": "3.7.3"
  }
 },
 "nbformat": 4,
 "nbformat_minor": 2
}
